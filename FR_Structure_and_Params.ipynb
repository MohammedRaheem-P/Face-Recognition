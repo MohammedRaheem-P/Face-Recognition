{
  "nbformat": 4,
  "nbformat_minor": 0,
  "metadata": {
    "colab": {
      "name": "FR_Structure and Params.ipynb",
      "provenance": [],
      "collapsed_sections": [],
      "toc_visible": true
    },
    "kernelspec": {
      "name": "python3",
      "display_name": "Python 3"
    }
  },
  "cells": [
    {
      "cell_type": "markdown",
      "metadata": {
        "id": "vbLZL1LpyWuc"
      },
      "source": [
        "# Face Recognition\n",
        "---"
      ]
    },
    {
      "cell_type": "markdown",
      "metadata": {
        "id": "HeZlqteAygfA"
      },
      "source": [
        "Goal:\n",
        "\n",
        "* Face Verification\n",
        "* Face Recognition\n",
        "\n",
        "using pretrained inception model - Transfer Learning"
      ]
    },
    {
      "cell_type": "markdown",
      "metadata": {
        "id": "km01qEcIy-Ds"
      },
      "source": [
        "Inputs : Pretrained Inception model. which model responsible to give 128 encoding vector for each face image "
      ]
    },
    {
      "cell_type": "markdown",
      "metadata": {
        "id": "rX7oFiBSzmSK"
      },
      "source": [
        "process: using Triplet loss function, train images(anchor,positive,negative) over the pretrained inception model by adding top layer to predict the face image is positive or negative corresponding to anchor image. where,\n",
        "* anchor image - base image \n",
        "* positive - same person\n",
        "* negative - different person"
      ]
    },
    {
      "cell_type": "markdown",
      "metadata": {
        "id": "1CZ1tCLVzg7c"
      },
      "source": [
        "Outputs:\n",
        "to verify the face image is same as anchor image"
      ]
    },
    {
      "cell_type": "markdown",
      "metadata": {
        "id": "-69kJtqk3AsP"
      },
      "source": [
        "Here using Channel first concept. #(m,Nc,Nh,Nw)"
      ]
    },
    {
      "cell_type": "markdown",
      "metadata": {
        "id": "Avvtpl7qyjBm"
      },
      "source": [
        "\n",
        "Importing required packages to make the architecture, which includes\n",
        "* first layers\n",
        "* inception layer \n",
        "* top layer -final (addition)\n",
        "\n"
      ]
    },
    {
      "cell_type": "code",
      "metadata": {
        "id": "a2qUu_mghyfc"
      },
      "source": [
        "from keras.layers import Input,ZeroPadding2D,Conv2D,Activation,concatenate\n",
        "from keras.layers.pooling import MaxPooling2D,AveragePooling2D\n",
        "from keras.layers.normalization import BatchNormalization\n",
        "from keras.layers.core import Flatten,Dense,Lambda\n",
        "from keras import backend as K\n",
        "K.set_image_data_format('channels_first')\n",
        "from keras.models import Model"
      ],
      "execution_count": null,
      "outputs": []
    },
    {
      "cell_type": "markdown",
      "metadata": {
        "id": "-DFEbIoU2F4h"
      },
      "source": [
        "before am going to make an architecture or structure of model, making inception layer/model first."
      ]
    },
    {
      "cell_type": "markdown",
      "metadata": {
        "id": "TIZsWJ0nh4tM"
      },
      "source": [
        "# Inception Blocks"
      ]
    },
    {
      "cell_type": "markdown",
      "metadata": {
        "id": "CTsc8cBv2dn6"
      },
      "source": [
        "A layer which used between inception block. making function for easy to use\n",
        "\n",
        "this fn we can reduce huge lines of coded inception model "
      ]
    },
    {
      "cell_type": "code",
      "metadata": {
        "id": "eeDoiVgri81R"
      },
      "source": [
        "def conv2d_bn(x,layer=None,\n",
        "              cv1_out=None,\n",
        "              cv1_filter=(1, 1),\n",
        "              cv1_strides=(1, 1),\n",
        "              cv2_out=None,\n",
        "              cv2_filter=(3, 3),\n",
        "              cv2_strides=(1, 1),\n",
        "              padding=None):\n",
        "    num = '' if cv2_out == None else '1'\n",
        "    tensor = Conv2D(cv1_out, cv1_filter, strides=cv1_strides, data_format='channels_first', name=layer+'_conv'+num)(x)\n",
        "    tensor = BatchNormalization(axis=1, epsilon=0.00001, name=layer+'_bn'+num)(tensor)\n",
        "    tensor = Activation('relu')(tensor)\n",
        "    if padding == None:\n",
        "        return tensor\n",
        "    tensor = ZeroPadding2D(padding=padding, data_format='channels_first')(tensor)\n",
        "    if cv2_out == None:\n",
        "        return tensor\n",
        "    tensor = Conv2D(cv2_out, cv2_filter, strides=cv2_strides, data_format='channels_first', name=layer+'_conv'+'2')(tensor)\n",
        "    tensor = BatchNormalization(axis=1, epsilon=0.00001, name=layer+'_bn'+'2')(tensor)\n",
        "    tensor = Activation('relu')(tensor)\n",
        "    return tensor"
      ],
      "execution_count": null,
      "outputs": []
    },
    {
      "cell_type": "markdown",
      "metadata": {
        "id": "aWCYnrgp3jgV"
      },
      "source": [
        "then, making blocks for inception,"
      ]
    },
    {
      "cell_type": "markdown",
      "metadata": {
        "id": "CjxSDS2w39XP"
      },
      "source": [
        "##     Implementation of an inception block\n"
      ]
    },
    {
      "cell_type": "code",
      "metadata": {
        "id": "ProTyY-miDOl"
      },
      "source": [
        "#ib-inception block\n",
        "\n",
        "def ib1a(X):\n",
        "    \n",
        "    X_3x3 = Conv2D(96, (1, 1), data_format='channels_first', name ='inception_3a_3x3_conv1')(X)\n",
        "    X_3x3 = BatchNormalization(axis=1, epsilon=0.00001, name = 'inception_3a_3x3_bn1')(X_3x3)\n",
        "    X_3x3 = Activation('relu')(X_3x3)\n",
        "    X_3x3 = ZeroPadding2D(padding=(1, 1), data_format='channels_first')(X_3x3)\n",
        "    X_3x3 = Conv2D(128, (3, 3), data_format='channels_first', name='inception_3a_3x3_conv2')(X_3x3)\n",
        "    X_3x3 = BatchNormalization(axis=1, epsilon=0.00001, name='inception_3a_3x3_bn2')(X_3x3)\n",
        "    X_3x3 = Activation('relu')(X_3x3)\n",
        "    \n",
        "    X_5x5 = Conv2D(16, (1, 1), data_format='channels_first', name='inception_3a_5x5_conv1')(X)\n",
        "    X_5x5 = BatchNormalization(axis=1, epsilon=0.00001, name='inception_3a_5x5_bn1')(X_5x5)\n",
        "    X_5x5 = Activation('relu')(X_5x5)\n",
        "    X_5x5 = ZeroPadding2D(padding=(2, 2), data_format='channels_first')(X_5x5)\n",
        "    X_5x5 = Conv2D(32, (5, 5), data_format='channels_first', name='inception_3a_5x5_conv2')(X_5x5)\n",
        "    X_5x5 = BatchNormalization(axis=1, epsilon=0.00001, name='inception_3a_5x5_bn2')(X_5x5)\n",
        "    X_5x5 = Activation('relu')(X_5x5)\n",
        "\n",
        "    X_pool = MaxPooling2D(pool_size=3, strides=2, data_format='channels_first')(X)\n",
        "    X_pool = Conv2D(32, (1, 1), data_format='channels_first', name='inception_3a_pool_conv')(X_pool)\n",
        "    X_pool = BatchNormalization(axis=1, epsilon=0.00001, name='inception_3a_pool_bn')(X_pool)\n",
        "    X_pool = Activation('relu')(X_pool)\n",
        "    X_pool = ZeroPadding2D(padding=((3, 4), (3, 4)), data_format='channels_first')(X_pool)\n",
        "\n",
        "    X_1x1 = Conv2D(64, (1, 1), data_format='channels_first', name='inception_3a_1x1_conv')(X)\n",
        "    X_1x1 = BatchNormalization(axis=1, epsilon=0.00001, name='inception_3a_1x1_bn')(X_1x1)\n",
        "    X_1x1 = Activation('relu')(X_1x1)\n",
        "        \n",
        "    # CONCAT\n",
        "    inception = concatenate([X_3x3, X_5x5, X_pool, X_1x1], axis=1)\n",
        "\n",
        "    return inception\n",
        "\n",
        "def ib1b(X):\n",
        "    X_3x3 = Conv2D(96, (1, 1), data_format='channels_first', name='inception_3b_3x3_conv1')(X)\n",
        "    X_3x3 = BatchNormalization(axis=1, epsilon=0.00001, name='inception_3b_3x3_bn1')(X_3x3)\n",
        "    X_3x3 = Activation('relu')(X_3x3)\n",
        "    X_3x3 = ZeroPadding2D(padding=(1, 1), data_format='channels_first')(X_3x3)\n",
        "    X_3x3 = Conv2D(128, (3, 3), data_format='channels_first', name='inception_3b_3x3_conv2')(X_3x3)\n",
        "    X_3x3 = BatchNormalization(axis=1, epsilon=0.00001, name='inception_3b_3x3_bn2')(X_3x3)\n",
        "    X_3x3 = Activation('relu')(X_3x3)\n",
        "\n",
        "    X_5x5 = Conv2D(32, (1, 1), data_format='channels_first', name='inception_3b_5x5_conv1')(X)\n",
        "    X_5x5 = BatchNormalization(axis=1, epsilon=0.00001, name='inception_3b_5x5_bn1')(X_5x5)\n",
        "    X_5x5 = Activation('relu')(X_5x5)\n",
        "    X_5x5 = ZeroPadding2D(padding=(2, 2), data_format='channels_first')(X_5x5)\n",
        "    X_5x5 = Conv2D(64, (5, 5), data_format='channels_first', name='inception_3b_5x5_conv2')(X_5x5)\n",
        "    X_5x5 = BatchNormalization(axis=1, epsilon=0.00001, name='inception_3b_5x5_bn2')(X_5x5)\n",
        "    X_5x5 = Activation('relu')(X_5x5)\n",
        "\n",
        "    X_pool = AveragePooling2D(pool_size=(3, 3), strides=(3, 3), data_format='channels_first')(X)\n",
        "    X_pool = Conv2D(64, (1, 1), data_format='channels_first', name='inception_3b_pool_conv')(X_pool)\n",
        "    X_pool = BatchNormalization(axis=1, epsilon=0.00001, name='inception_3b_pool_bn')(X_pool)\n",
        "    X_pool = Activation('relu')(X_pool)\n",
        "    X_pool = ZeroPadding2D(padding=(4, 4), data_format='channels_first')(X_pool)\n",
        "\n",
        "    X_1x1 = Conv2D(64, (1, 1), data_format='channels_first', name='inception_3b_1x1_conv')(X)\n",
        "    X_1x1 = BatchNormalization(axis=1, epsilon=0.00001, name='inception_3b_1x1_bn')(X_1x1)\n",
        "    X_1x1 = Activation('relu')(X_1x1)\n",
        "\n",
        "    inception = concatenate([X_3x3, X_5x5, X_pool, X_1x1], axis=1)\n",
        "\n",
        "    return inception\n",
        "\n",
        "def ib1c(X):\n",
        "    #using earlier used function to be easy\n",
        "    X_3x3 = conv2d_bn(X,\n",
        "                           layer='inception_3c_3x3',\n",
        "                           cv1_out=128,\n",
        "                           cv1_filter=(1, 1),\n",
        "                           cv2_out=256,\n",
        "                           cv2_filter=(3, 3),\n",
        "                           cv2_strides=(2, 2),\n",
        "                           padding=(1, 1))\n",
        "\n",
        "    X_5x5 = conv2d_bn(X,\n",
        "                           layer='inception_3c_5x5',\n",
        "                           cv1_out=32,\n",
        "                           cv1_filter=(1, 1),\n",
        "                           cv2_out=64,\n",
        "                           cv2_filter=(5, 5),\n",
        "                           cv2_strides=(2, 2),\n",
        "                           padding=(2, 2))\n",
        "\n",
        "    X_pool = MaxPooling2D(pool_size=3, strides=2, data_format='channels_first')(X)\n",
        "    X_pool = ZeroPadding2D(padding=((0, 1), (0, 1)), data_format='channels_first')(X_pool)\n",
        "\n",
        "    inception = concatenate([X_3x3, X_5x5, X_pool], axis=1)\n",
        "\n",
        "    return inception\n",
        "\n",
        "def ib2a(X):\n",
        "    X_3x3 = conv2d_bn(X,\n",
        "                           layer='inception_4a_3x3',\n",
        "                           cv1_out=96,\n",
        "                           cv1_filter=(1, 1),\n",
        "                           cv2_out=192,\n",
        "                           cv2_filter=(3, 3),\n",
        "                           cv2_strides=(1, 1),\n",
        "                           padding=(1, 1))\n",
        "    X_5x5 = conv2d_bn(X,\n",
        "                           layer='inception_4a_5x5',\n",
        "                           cv1_out=32,\n",
        "                           cv1_filter=(1, 1),\n",
        "                           cv2_out=64,\n",
        "                           cv2_filter=(5, 5),\n",
        "                           cv2_strides=(1, 1),\n",
        "                           padding=(2, 2))\n",
        "\n",
        "    X_pool = AveragePooling2D(pool_size=(3, 3), strides=(3, 3), data_format='channels_first')(X)\n",
        "    X_pool = conv2d_bn(X_pool,\n",
        "                           layer='inception_4a_pool',\n",
        "                           cv1_out=128,\n",
        "                           cv1_filter=(1, 1),\n",
        "                           padding=(2, 2))\n",
        "    X_1x1 = conv2d_bn(X,\n",
        "                           layer='inception_4a_1x1',\n",
        "                           cv1_out=256,\n",
        "                           cv1_filter=(1, 1))\n",
        "    inception = concatenate([X_3x3, X_5x5, X_pool, X_1x1], axis=1)\n",
        "\n",
        "    return inception\n",
        "\n",
        "def ib2b(X):\n",
        "    X_3x3 = conv2d_bn(X,\n",
        "                           layer='inception_4e_3x3',\n",
        "                           cv1_out=160,\n",
        "                           cv1_filter=(1, 1),\n",
        "                           cv2_out=256,\n",
        "                           cv2_filter=(3, 3),\n",
        "                           cv2_strides=(2, 2),\n",
        "                           padding=(1, 1))\n",
        "    X_5x5 = conv2d_bn(X,\n",
        "                           layer='inception_4e_5x5',\n",
        "                           cv1_out=64,\n",
        "                           cv1_filter=(1, 1),\n",
        "                           cv2_out=128,\n",
        "                           cv2_filter=(5, 5),\n",
        "                           cv2_strides=(2, 2),\n",
        "                           padding=(2, 2))\n",
        "    \n",
        "    X_pool = MaxPooling2D(pool_size=3, strides=2, data_format='channels_first')(X)\n",
        "    X_pool = ZeroPadding2D(padding=((0, 1), (0, 1)), data_format='channels_first')(X_pool)\n",
        "\n",
        "    inception = concatenate([X_3x3, X_5x5, X_pool], axis=1)\n",
        "\n",
        "    return inception\n",
        "\n",
        "def ib3a(X):\n",
        "    X_3x3 = conv2d_bn(X,\n",
        "                           layer='inception_5a_3x3',\n",
        "                           cv1_out=96,\n",
        "                           cv1_filter=(1, 1),\n",
        "                           cv2_out=384,\n",
        "                           cv2_filter=(3, 3),\n",
        "                           cv2_strides=(1, 1),\n",
        "                           padding=(1, 1))\n",
        "    X_pool = AveragePooling2D(pool_size=(3, 3), strides=(3, 3), data_format='channels_first')(X)\n",
        "    X_pool = conv2d_bn(X_pool,\n",
        "                           layer='inception_5a_pool',\n",
        "                           cv1_out=96,\n",
        "                           cv1_filter=(1, 1),\n",
        "                           padding=(1, 1))\n",
        "    X_1x1 = conv2d_bn(X,\n",
        "                           layer='inception_5a_1x1',\n",
        "                           cv1_out=256,\n",
        "                           cv1_filter=(1, 1))\n",
        "\n",
        "    inception = concatenate([X_3x3, X_pool, X_1x1], axis=1)\n",
        "\n",
        "    return inception\n",
        "\n",
        "def ib3b(X):\n",
        "    X_3x3 = conv2d_bn(X,\n",
        "                           layer='inception_5b_3x3',\n",
        "                           cv1_out=96,\n",
        "                           cv1_filter=(1, 1),\n",
        "                           cv2_out=384,\n",
        "                           cv2_filter=(3, 3),\n",
        "                           cv2_strides=(1, 1),\n",
        "                           padding=(1, 1))\n",
        "    X_pool = MaxPooling2D(pool_size=3, strides=2, data_format='channels_first')(X)\n",
        "    X_pool = conv2d_bn(X_pool,\n",
        "                           layer='inception_5b_pool',\n",
        "                           cv1_out=96,\n",
        "                           cv1_filter=(1, 1))\n",
        "    X_pool = ZeroPadding2D(padding=(1, 1), data_format='channels_first')(X_pool)\n",
        "\n",
        "    X_1x1 = conv2d_bn(X,\n",
        "                           layer='inception_5b_1x1',\n",
        "                           cv1_out=256,\n",
        "                           cv1_filter=(1, 1))\n",
        "    inception = concatenate([X_3x3, X_pool, X_1x1], axis=1)\n",
        "\n",
        "    return inception\n"
      ],
      "execution_count": null,
      "outputs": []
    },
    {
      "cell_type": "markdown",
      "metadata": {
        "id": "yMlB5ufo4h9F"
      },
      "source": [
        "Summary of Inception blocks:\n",
        " \n",
        " ib1a>ib1b>ib1c  >> ib2a>ib2b >> ib3a>ib3b"
      ]
    },
    {
      "cell_type": "markdown",
      "metadata": {
        "id": "_8tMQyrZ5XJl"
      },
      "source": [
        "##### calculate the hidden layers in inception model\n",
        "* ib1a - 6\n",
        "* ib1b - 6\n",
        "* ib1c - 2\n",
        "* ib2a - 4\n",
        "* ib2b - 2\n",
        "* ib3a - 3\n",
        "* ib3c - 3\n",
        "\n",
        "26 Hidden layers.........Conv layers"
      ]
    },
    {
      "cell_type": "markdown",
      "metadata": {
        "id": "JjybvPS66bOB"
      },
      "source": [
        "# Model"
      ]
    },
    {
      "cell_type": "markdown",
      "metadata": {
        "id": "NgQeEMki6es8"
      },
      "source": [
        "Entire structure includes,\n",
        "\n",
        "* Input Layer -followed by a zero padding\n",
        "* [(Conv + BN + RELU)+(ZP+MaxPool)] - 1st HL  \n",
        "* [(Conv + BN + RELU) + (ZP) ]      - 2nd HL\n",
        "* [(Conv + BN + RELU)+(ZP+MaxPool)] - 3rd HL\n",
        "* Inception                         - 26 HL\n",
        "* Flatten + Dense(128)              - 2 layers (addition)\n",
        "\n",
        "3+26+2=31 layered Deep Neural Networks."
      ]
    },
    {
      "cell_type": "code",
      "metadata": {
        "id": "vcVnhN_nir2J"
      },
      "source": [
        "def FaceRecoModel(input_shape):\n",
        "    \n",
        "    X_input=Input(input_shape)\n",
        "    X=ZeroPadding2D((3,3))(X_input)\n",
        "    \n",
        "    X=Conv2D(64,(7,7),strides=(2,2),name='conv1')(X)\n",
        "    X=BatchNormalization(axis=1,name='bn1')(X)\n",
        "    X=Activation('relu')(X)\n",
        "    \n",
        "    X=ZeroPadding2D((1,1))(X)\n",
        "    X=MaxPooling2D((3,3),strides=2)(X)\n",
        "    \n",
        "    X=Conv2D(64,(1,1),strides=(1,1),name='conv2')(X)\n",
        "    X=BatchNormalization(axis=1,epsilon=0.00001,name='bn2')(X)\n",
        "    X=Activation('relu')(X)\n",
        "    \n",
        "    X=ZeroPadding2D((1,1))(X)\n",
        "    \n",
        "    X=Conv2D(192,(3,3),strides=(1,1),name='conv3')(X)\n",
        "    X=BatchNormalization(axis=1,epsilon=0.00001,name='bn3')(X)\n",
        "    X=Activation('relu')(X)\n",
        "    \n",
        "    X=ZeroPadding2D((1,1))(X)\n",
        "    X=MaxPooling2D((3,3),strides=2)(X)\n",
        "    \n",
        "    #inception model\n",
        "    #ib-inception block\n",
        "    X=ib1a(X)\n",
        "    X=ib1b(X)\n",
        "    X=ib1c(X)\n",
        "    \n",
        "    X=ib2a(X)\n",
        "    X=ib2b(X)\n",
        "    \n",
        "    X=ib3a(X)\n",
        "    X=ib3b(X)\n",
        "    \n",
        "    #top layer\n",
        "    X=AveragePooling2D((3,3),strides=(1,1),data_format='channels_first')(X)\n",
        "    X=Flatten()(X)\n",
        "    X=Dense(128,name='dense_layer')(X)\n",
        "    #to normalize and set size with input image,\n",
        "    X=Lambda(lambda x:K.l2_normalize(x,axis=1))(X)\n",
        "    \n",
        "    model=Model(inputs=X_input,outputs=X,name='FaceRecoModel')\n",
        "    \n",
        "    return model"
      ],
      "execution_count": null,
      "outputs": []
    },
    {
      "cell_type": "markdown",
      "metadata": {
        "id": "vENeLMWV8sHr"
      },
      "source": [
        "Let's see model,"
      ]
    },
    {
      "cell_type": "code",
      "metadata": {
        "id": "uOWwBpUEj5hG"
      },
      "source": [
        "FRModel=FaceRecoModel(input_shape=(3,96,96))"
      ],
      "execution_count": null,
      "outputs": []
    },
    {
      "cell_type": "markdown",
      "metadata": {
        "id": "vnw4Om5b80B0"
      },
      "source": [
        "total parameters"
      ]
    },
    {
      "cell_type": "code",
      "metadata": {
        "colab": {
          "base_uri": "https://localhost:8080/"
        },
        "id": "2qUk7-PNkWwU",
        "outputId": "8d1b03b4-ba4c-4598-9f6e-075aee2cff51"
      },
      "source": [
        "FRModel.count_params()"
      ],
      "execution_count": null,
      "outputs": [
        {
          "output_type": "execute_result",
          "data": {
            "text/plain": [
              "3743280"
            ]
          },
          "metadata": {
            "tags": []
          },
          "execution_count": 6
        }
      ]
    },
    {
      "cell_type": "markdown",
      "metadata": {
        "id": "jgGhnOLcwWQX"
      },
      "source": [
        "# Training"
      ]
    },
    {
      "cell_type": "markdown",
      "metadata": {
        "id": "UOfrJQqCE08O"
      },
      "source": [
        "## Triplet Loss"
      ]
    },
    {
      "cell_type": "markdown",
      "metadata": {
        "id": "G3INLrGUE6Kp"
      },
      "source": [
        "triplet loss for a single observation or eg.\n",
        "\n",
        "|f(A)-f(P)|^2 - |f(A)-f(N)|^2 + a\n",
        "\n",
        "where A - anchor image, P - same person, N- different person\n",
        "\n",
        "f(A) - 128 embedded vector of anchor image\n",
        "\n",
        "f(P) - 128 embedded vector of same person image\n",
        "\n",
        "f(N) - 128 embedded vector of different person image\n",
        "\n",
        "||^2 norm square\n",
        "\n",
        "a - margin"
      ]
    },
    {
      "cell_type": "code",
      "metadata": {
        "id": "Ag78BGVeRNQu"
      },
      "source": [
        ""
      ],
      "execution_count": null,
      "outputs": []
    },
    {
      "cell_type": "code",
      "metadata": {
        "id": "FTOFsdecRfr4"
      },
      "source": [
        ""
      ],
      "execution_count": null,
      "outputs": []
    },
    {
      "cell_type": "code",
      "metadata": {
        "id": "kMMq2jNxS_OV"
      },
      "source": [
        ""
      ],
      "execution_count": null,
      "outputs": []
    },
    {
      "cell_type": "code",
      "metadata": {
        "id": "DtunvwtD0kmW"
      },
      "source": [
        ""
      ],
      "execution_count": null,
      "outputs": []
    },
    {
      "cell_type": "markdown",
      "metadata": {
        "id": "27lEO7u80qM5"
      },
      "source": [
        "To allow entry for an employee in an office\n",
        "\n",
        "there are 12 employees in the office\n",
        "\n"
      ]
    },
    {
      "cell_type": "markdown",
      "metadata": {
        "id": "7cEOHzCJ1XzE"
      },
      "source": [
        "from the model, we can make 128 embedding vectors for each employee through the forward propagation over the model,"
      ]
    },
    {
      "cell_type": "code",
      "metadata": {
        "id": "ErxqfxOb2RoG"
      },
      "source": [
        ""
      ],
      "execution_count": null,
      "outputs": []
    },
    {
      "cell_type": "code",
      "metadata": {
        "id": "UN7tntAS2SFt"
      },
      "source": [
        ""
      ],
      "execution_count": null,
      "outputs": []
    }
  ]
}